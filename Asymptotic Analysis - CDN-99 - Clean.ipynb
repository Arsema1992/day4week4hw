{
 "cells": [
  {
   "cell_type": "markdown",
   "metadata": {},
   "source": [
    "# Asymptotic Analysis & Data Structures\n",
    "\n",
    "### Topics to discuss today:\n",
    "\n",
    "<ul>\n",
    "    <li>What is Asymptotic Analysis?</li>\n",
    "    <li>Classifying time complexities</li>\n",
    "    <li>Classifying space complexities</li>\n",
    "    <li>Implementing a LinkedList</li>\n",
    "</ul>"
   ]
  },
  {
   "cell_type": "markdown",
   "metadata": {},
   "source": [
    "### What is Asymptotic Analysis?\n",
    "\n",
    "Asymptotic analysis refers to setting mathematical bounds of an algorithms run-time performance. Asymptotic analysis is used for estimating time and space complexity.\n",
    "\n",
    "There are three metrics we measure:\n",
    "<ul>\n",
    "<li><b>Best Case</b> − Minimum time required for running.</li>\n",
    "<li><b>Average Case</b> − Average time required for running.</li>\n",
    "<li><b>Worst Case</b> − Maximum time required for running.</li>\n",
    "</ul>\n",
    "\n",
    "Here are the two major asymptotic notations that we'll be focusing on today:\n",
    "<ul>\n",
    "<li>Ο Notation (Big O Notation)</li>\n",
    "<li>Ω Notation (Omega Notation)</li>\n",
    "</ul>\n",
    "\n",
    "#### Big O Notation\n",
    "Big O notation expresses the <b>upper bound</b> of an algorithm's execution time. This measures the <b>worst case</b> time complexity.\n",
    "\n",
    "#### Omega Notation\n",
    "Omega notation expresses the <b>lower bound</b> of an algorithm's execution time. This measures the <b>best case</b> time complexity."
   ]
  },
  {
   "cell_type": "markdown",
   "metadata": {},
   "source": [
    "\n",
    "\n",
    "<table style=\"text-align:left;\" class=\"table table-bordered\">\n",
    "    <thead>\n",
    "        <tr>\n",
    "            <th>Name</th>\n",
    "            <th>Time Complexity</th>\n",
    "        </tr>\n",
    "    </thead>\n",
    "\n",
    "  <tr>\n",
    "<td>constant</td>\n",
    "<td>Ο(1)</td>\n",
    "</tr>\n",
    "<tr>\n",
    "<td>logarithmic</td>\n",
    "<td>Ο(log n)</td>\n",
    "</tr>\n",
    "<tr>\n",
    "<td>linear</td>\n",
    "<td>Ο(n)</td>\n",
    "</tr>\n",
    "<tr>\n",
    "<td>n log n</td>\n",
    "<td>Ο(n log n)</td>\n",
    "</tr>\n",
    "<tr>\n",
    "<td>quadratic</td>\n",
    "<td>Ο(n<sup>2</sup>)</td>\n",
    "</tr>\n",
    "<tr>\n",
    "<td>cubic</td>\n",
    "<td>Ο(n<sup>3</sup>)</td>\n",
    "</tr>\n",
    "<tr>\n",
    "<td>polynomial</td>\n",
    "<td>n<sup>Ο(1)</sup></td>\n",
    "</tr>\n",
    "<tr>\n",
    "<td>exponential</td>\n",
    "<td>2<sup>Ο(n)</sup></td>\n",
    "</tr>\n",
    "</table>\n",
    "\n",
    "Extra resources:\n",
    "https://www.youtube.com/watch?v=0oDAlMwTrLo"
   ]
  },
  {
   "cell_type": "markdown",
   "metadata": {},
   "source": [
    "##### O(1) Example\n",
    "No matter the size of the input data, the execution time will always be the same"
   ]
  },
  {
   "cell_type": "code",
   "execution_count": 8,
   "metadata": {},
   "outputs": [],
   "source": [
    "def add(a,b):\n",
    "    return a + b"
   ]
  },
  {
   "cell_type": "code",
   "execution_count": 9,
   "metadata": {},
   "outputs": [
    {
     "name": "stdout",
     "output_type": "stream",
     "text": [
      "152 ns ± 2.31 ns per loop (mean ± std. dev. of 7 runs, 10000000 loops each)\n"
     ]
    }
   ],
   "source": [
    "%timeit add(10,10)"
   ]
  },
  {
   "cell_type": "code",
   "execution_count": 16,
   "metadata": {},
   "outputs": [
    {
     "name": "stdout",
     "output_type": "stream",
     "text": [
      "166 ns ± 1.5 ns per loop (mean ± std. dev. of 7 runs, 10000000 loops each)\n"
     ]
    }
   ],
   "source": [
    "%timeit add(2000000,3231525)"
   ]
  },
  {
   "cell_type": "markdown",
   "metadata": {},
   "source": [
    "##### O(n) Example\n",
    "The execution time increases linearly with the length of the input. For each growth in size of the input, the time it takes to run increases by the same amount."
   ]
  },
  {
   "cell_type": "code",
   "execution_count": 17,
   "metadata": {},
   "outputs": [],
   "source": [
    "def my_sum(a_list):\n",
    "    result = 0\n",
    "    \n",
    "    for item in a_list:\n",
    "        result += item\n",
    "        \n",
    "    return result"
   ]
  },
  {
   "cell_type": "code",
   "execution_count": 18,
   "metadata": {},
   "outputs": [
    {
     "name": "stdout",
     "output_type": "stream",
     "text": [
      "440 ns ± 5.91 ns per loop (mean ± std. dev. of 7 runs, 1000000 loops each)\n"
     ]
    }
   ],
   "source": [
    "%timeit my_sum([1,2,3,4])"
   ]
  },
  {
   "cell_type": "code",
   "execution_count": 19,
   "metadata": {},
   "outputs": [
    {
     "name": "stdout",
     "output_type": "stream",
     "text": [
      "642 ns ± 11.3 ns per loop (mean ± std. dev. of 7 runs, 1000000 loops each)\n"
     ]
    }
   ],
   "source": [
    "%timeit my_sum([1,2,3,4,5,6,7,8])"
   ]
  },
  {
   "cell_type": "code",
   "execution_count": null,
   "metadata": {},
   "outputs": [],
   "source": [
    "#o(n + n) => o(2n) => 0(n) <- simplyfy out the conststance\n",
    "def sum_products(a_list):\n",
    "    sum_result = 0\n",
    "    #o(n)\n",
    "    for item in a_list:\n",
    "        sum_result += item\n",
    "        \n",
    "    product_result = 1\n",
    "    #o(n)\n",
    "    for item in a_list:\n",
    "        product_result *= item\n",
    "        \n",
    "    return (sum_result,product_result)"
   ]
  },
  {
   "cell_type": "markdown",
   "metadata": {},
   "source": [
    "##### O(log(n))\n",
    "A logarithmic time complexity increases linearly as the input increases exponentially. Usually this occurs when we decrease the size of our input as we move through our algorithm. It is O(log(n)) when we do divide and conquer type of algorithms like binary search. \n",
    "\n",
    "Additional Explanations:\n",
    "https://www.youtube.com/watch?v=wjDY5RbILno\n"
   ]
  },
  {
   "cell_type": "code",
   "execution_count": null,
   "metadata": {},
   "outputs": [],
   "source": []
  },
  {
   "cell_type": "markdown",
   "metadata": {},
   "source": [
    "###### O(n^2) Example\n",
    "When an algorithm needs to perform a linear time operation for each value in the input data"
   ]
  },
  {
   "cell_type": "code",
   "execution_count": 28,
   "metadata": {},
   "outputs": [],
   "source": [
    "num_list_1 = [1,2,3,4]\n",
    "num_list_2 = [5,3,21,1]\n",
    "\n",
    "\n",
    "def build_combos(list_a,list_b):\n",
    "    result_list = []\n",
    "    \n",
    "    for item_a in list_a:\n",
    "        for item_b in list_b:\n",
    "            result_list.append([item_a, item_b])\n",
    "            \n",
    "    return  result_list"
   ]
  },
  {
   "cell_type": "code",
   "execution_count": 29,
   "metadata": {},
   "outputs": [
    {
     "data": {
      "text/plain": [
       "[[1, 5],\n",
       " [1, 3],\n",
       " [1, 21],\n",
       " [1, 1],\n",
       " [2, 5],\n",
       " [2, 3],\n",
       " [2, 21],\n",
       " [2, 1],\n",
       " [3, 5],\n",
       " [3, 3],\n",
       " [3, 21],\n",
       " [3, 1],\n",
       " [4, 5],\n",
       " [4, 3],\n",
       " [4, 21],\n",
       " [4, 1]]"
      ]
     },
     "execution_count": 29,
     "metadata": {},
     "output_type": "execute_result"
    }
   ],
   "source": [
    "build_combos(num_list_1, num_list_2)"
   ]
  },
  {
   "cell_type": "code",
   "execution_count": null,
   "metadata": {},
   "outputs": [],
   "source": []
  },
  {
   "cell_type": "markdown",
   "metadata": {},
   "source": [
    "### In-Class Exercise\n",
    "In a comment in the following three cells, classify each algorithm into one of the time complexities discussed above."
   ]
  },
  {
   "cell_type": "code",
   "execution_count": 2,
   "metadata": {},
   "outputs": [],
   "source": [
    "def two_sum_loops(nums, target):\n",
    "    #o(n)\n",
    "    for i, num in enumerate(nums):\n",
    "        #o(n)\n",
    "        for j, num2 in enumerate(nums[i + 1:]):\n",
    "            if target - num == num2:\n",
    "                return [i,j+i+1]"
   ]
  },
  {
   "cell_type": "code",
   "execution_count": null,
   "metadata": {},
   "outputs": [],
   "source": [
    "o(n^2)"
   ]
  },
  {
   "cell_type": "code",
   "execution_count": 3,
   "metadata": {},
   "outputs": [],
   "source": [
    "def two_sum(nums, target):\n",
    "    d={}\n",
    "    #o(n)\n",
    "    for i, num in enumerate(nums):\n",
    "       # o(1) => constant\n",
    "        if target - num in d:\n",
    "            return [d[target-num],i]\n",
    "        #o(1) => constant\n",
    "        d[num]=i\n",
    "    return -1"
   ]
  },
  {
   "cell_type": "code",
   "execution_count": null,
   "metadata": {},
   "outputs": [],
   "source": [
    "o(n)"
   ]
  },
  {
   "cell_type": "code",
   "execution_count": 4,
   "metadata": {},
   "outputs": [],
   "source": [
    "def check_if_num_in_list(a_list, value):\n",
    "    #o(n) => liner\n",
    "    return value in a_list"
   ]
  },
  {
   "cell_type": "code",
   "execution_count": null,
   "metadata": {},
   "outputs": [],
   "source": [
    "o(n)"
   ]
  },
  {
   "cell_type": "code",
   "execution_count": 30,
   "metadata": {},
   "outputs": [],
   "source": [
    "def two_sum_loops(nums, target):\n",
    "    #o(n)\n",
    "    for i, num in enumerate(nums):\n",
    "        #o(n)\n",
    "        for j, num2 in enumerate(nums[i + 1:]):\n",
    "            o(1)\n",
    "            if target - num == num2:\n",
    "                print([i,j+i+1])\n",
    "        o(n)        \n",
    "    for item in nums:\n",
    "        print(item)\n"
   ]
  },
  {
   "cell_type": "code",
   "execution_count": null,
   "metadata": {},
   "outputs": [],
   "source": [
    "o(n^2)"
   ]
  },
  {
   "cell_type": "markdown",
   "metadata": {},
   "source": [
    "## Space Complexity\n",
    "Space complexity refers to the total amount of memory space that is consumed by an algorithm. This value includes both any new values created as well as well as input values\n",
    "\n",
    "We'll use Big O notation for space complexity as well. In this case, Big O gives the worst-case of an algorithm’s growth rate. \n",
    "\n",
    "\"The space this algorithm takes will grow no more quickly than this, but it could grow more slowly.\""
   ]
  },
  {
   "cell_type": "markdown",
   "metadata": {},
   "source": [
    "# o(1) examle"
   ]
  },
  {
   "cell_type": "code",
   "execution_count": 38,
   "metadata": {},
   "outputs": [],
   "source": [
    "def add(num1, num2):\n",
    "    return num1 + num2"
   ]
  },
  {
   "cell_type": "code",
   "execution_count": 37,
   "metadata": {},
   "outputs": [
    {
     "name": "stdout",
     "output_type": "stream",
     "text": [
      "21\n"
     ]
    }
   ],
   "source": [
    "def my_sum(a_list):\n",
    "    result = 0\n",
    "    \n",
    "    for item in a_list:\n",
    "        result += item\n",
    "        \n",
    "    return result\n",
    "numbers = [1,2,3,4,5,6]\n",
    "\n",
    "print(my_sum(numbers))"
   ]
  },
  {
   "cell_type": "markdown",
   "metadata": {},
   "source": [
    "# binary"
   ]
  },
  {
   "cell_type": "code",
   "execution_count": 35,
   "metadata": {},
   "outputs": [
    {
     "name": "stdout",
     "output_type": "stream",
     "text": [
      "target4 found at index 3\n",
      "target7 found at index 6\n",
      "target8 found at index 7\n",
      "target4 found at index 3\n"
     ]
    }
   ],
   "source": [
    "#Binary search on sorted list\n",
    "\"\"\"\n",
    "looked at both ends \n",
    "checked middle\n",
    "if higher\n",
    "moved one end\n",
    "rechecked middle\n",
    "until target\n",
    "\"\"\"\n",
    "def binary_search(alist, target):\n",
    "    left,right=0, len(alist) - 1\n",
    "    while left <= right:\n",
    "      \n",
    "        middle = (left + right) // 2\n",
    "        if alist[middle] == target:\n",
    "            return f'target{target} found at index {middle}'\n",
    "        elif alist[middle] > target:\n",
    "            right = middle -1\n",
    "        else:\n",
    "            left = middle + 1\n",
    "    return f'Target {target} was not found'\n",
    "print(binary_search([1,2,3,4,5,6,7],4))\n",
    "print(binary_search([1,2,3,4,5,6,7],7))\n",
    "print(binary_search([1,2,3,4,5,6,7,8],8))\n",
    "print(binary_search([1,2,3,4,5,6,7,10,100],4))"
   ]
  },
  {
   "cell_type": "markdown",
   "metadata": {},
   "source": [
    "###### O(n) Example\n",
    "Input Space: O(n) <- This comes from aList in the input\n",
    "Auxiliary Space: O(1) <- The only variables created in the function are integers\n",
    "\n",
    "Total Space: O(n + 1) or O(n)"
   ]
  },
  {
   "cell_type": "code",
   "execution_count": 41,
   "metadata": {},
   "outputs": [],
   "source": [
    "from random import randint\n",
    "def build_list(size):\n",
    "    result = []\n",
    "    result_2=[]\n",
    "    \n",
    "    for i in range(size):\n",
    "        result.append(randint(1,100))\n",
    "        result_2.append(randint(101,200))\n",
    "    return result"
   ]
  },
  {
   "cell_type": "code",
   "execution_count": 44,
   "metadata": {},
   "outputs": [
    {
     "data": {
      "text/plain": [
       "[3, 29, 8, 36, 45, 96, 50, 78, 14, 43]"
      ]
     },
     "execution_count": 44,
     "metadata": {},
     "output_type": "execute_result"
    }
   ],
   "source": [
    "build_list(10)"
   ]
  },
  {
   "cell_type": "code",
   "execution_count": 43,
   "metadata": {},
   "outputs": [
    {
     "data": {
      "text/plain": [
       "[9, 66, 85, 6, 9, 6, 91, 64, 34, 61, 8, 66, 98, 50, 75, 6, 34, 85, 91, 76]"
      ]
     },
     "execution_count": 43,
     "metadata": {},
     "output_type": "execute_result"
    }
   ],
   "source": [
    "build_list(20)"
   ]
  },
  {
   "cell_type": "code",
   "execution_count": null,
   "metadata": {},
   "outputs": [],
   "source": [
    "o(n^2)"
   ]
  },
  {
   "cell_type": "code",
   "execution_count": null,
   "metadata": {},
   "outputs": [],
   "source": [
    "from random import randint\n",
    "\n",
    "def build_matrix(size):\n",
    "    result = []\n",
    "    \n",
    "    for i in range(size):\n",
    "        inner = []\n",
    "        \n",
    "        for j in range (size):\n",
    "            inner.appened(randint(1,100))\n",
    "            \n",
    "        result.appened(inner_list)\n",
    "        \n",
    "    return result\n",
    "build_matrix"
   ]
  },
  {
   "cell_type": "code",
   "execution_count": null,
   "metadata": {},
   "outputs": [],
   "source": []
  },
  {
   "cell_type": "code",
   "execution_count": null,
   "metadata": {},
   "outputs": [],
   "source": []
  }
 ],
 "metadata": {
  "kernelspec": {
   "display_name": "Python 3",
   "language": "python",
   "name": "python3"
  },
  "language_info": {
   "codemirror_mode": {
    "name": "ipython",
    "version": 3
   },
   "file_extension": ".py",
   "mimetype": "text/x-python",
   "name": "python",
   "nbconvert_exporter": "python",
   "pygments_lexer": "ipython3",
   "version": "3.11.1"
  },
  "vscode": {
   "interpreter": {
    "hash": "ebfc0a8d552866b0d59eba665220a57de3bc06f3ac643b8bef38dd8f66781fdd"
   }
  }
 },
 "nbformat": 4,
 "nbformat_minor": 2
}
